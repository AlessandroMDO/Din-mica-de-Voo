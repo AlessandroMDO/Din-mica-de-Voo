{
  "nbformat": 4,
  "nbformat_minor": 0,
  "metadata": {
    "colab": {
      "name": "Exercícios 2 e 3 .ipynb",
      "provenance": [],
      "mount_file_id": "11eleWhEK4ukPnscdXgT5IlGM3i5hmxU2",
      "authorship_tag": "ABX9TyP4DcAZ9rCX7sTR6Tqbrpyu"
    },
    "kernelspec": {
      "name": "python3",
      "display_name": "Python 3"
    }
  },
  "cells": [
    {
      "cell_type": "code",
      "metadata": {
        "id": "TQ1iz3U8TqfE",
        "colab_type": "code",
        "colab": {}
      },
      "source": [
        "import numpy as np\n",
        "import matplotlib.pyplot as plt\n",
        "import pandas as pd\n",
        "import seaborn as sns\n",
        "from sympy.solvers import solve\n",
        "from sympy import Symbol"
      ],
      "execution_count": 0,
      "outputs": []
    },
    {
      "cell_type": "code",
      "metadata": {
        "id": "8FYvJOKIT2VR",
        "colab_type": "code",
        "colab": {}
      },
      "source": [
        "#DADOS FORNECIDOS\n",
        "\n",
        "nt=0.92 #relação de pressões dinâmicas\n",
        "st=6.48 #area empenagem\n",
        "sw=27.3 #area asa\n",
        "b=16.25 #evergadura\n",
        "arw=9.67 #\n",
        "art=5.25 #\n",
        "lambdaw=0.4 #afilamento asa\n",
        "lambdat=0.6 #afilamento empenagem\n",
        "delta_c4=0\n",
        "aw=4.9 # rad\n",
        "at=4.9 # rad\n",
        "iw=1*(3.14/180) #incidencia asa\n",
        "alphaLow=-2*(3.14/180)\n",
        "alphaLot=0\n",
        "xw=0.407\n",
        "zw=0\n",
        "xt=6.71\n",
        "zt=2.68\n",
        "Cmw=-0.02 #\n",
        "Cmt=0\n",
        "\n",
        "Cmdelta=-0.0071\n",
        "Cldelta=0.015\n",
        "\n",
        "ss = st/sw #razão entre áreas"
      ],
      "execution_count": 0,
      "outputs": []
    },
    {
      "cell_type": "code",
      "metadata": {
        "id": "Q2MnJj_6UsXU",
        "colab_type": "code",
        "colab": {}
      },
      "source": [
        "#PARÂMETROS DEDUZIDOS (dados gerais)\n",
        "\n",
        "cr=(sw*2)/(b*(1+lambdaw)) #corda raiz\n",
        "ct=lambdaw*cr #corda ponta\n",
        "cbarra = (2/3)*cr*((1+lambdaw+lambdaw**2)/(1+lambdaw)) #mac\n",
        "\n",
        "kh = (1-abs((zt-zw)/b))/(2*(xt-xw)/b)**(1/3)\n",
        "kdelta=(10-3*lambdaw)/7\n",
        "kar=1/arw-1/(1+arw**1.7)\n",
        "\n",
        "clow = -aw*alphaLow\n",
        "clot = -at*alphaLot\n",
        "\n",
        "dev=4.44*(kh*kdelta*kar)**1.19 ## dev = (1-dE/dAlpha)\n",
        "E0 = -dev*(alphaLow-iw)\n",
        "\n",
        "cl_alpha = aw+nt*ss*at*(1-dev) \n",
        "dcmf_dal=0.25*cl_alpha\n"
      ],
      "execution_count": 0,
      "outputs": []
    },
    {
      "cell_type": "markdown",
      "metadata": {
        "id": "_JGJ04o3WT8a",
        "colab_type": "text"
      },
      "source": [
        "**Exercício 2**\n"
      ]
    },
    {
      "cell_type": "code",
      "metadata": {
        "id": "hSBkZC5hUvmx",
        "colab_type": "code",
        "colab": {
          "base_uri": "https://localhost:8080/",
          "height": 34
        },
        "outputId": "50eb88f3-634d-470f-a731-8a1e6c1eabcf"
      },
      "source": [
        "#----------a)--------------- \n",
        "xn = (aw*xw+at*(1-dev)*ss*nt*xt-dcmf_dal*cbarra)/cl_alpha \n",
        "print(f'Xn: {round(xn,5)} [m]');"
      ],
      "execution_count": 63,
      "outputs": [
        {
          "output_type": "stream",
          "text": [
            "Xn: 0.82989 [m]\n"
          ],
          "name": "stdout"
        }
      ]
    },
    {
      "cell_type": "code",
      "metadata": {
        "id": "kshUplHebX3S",
        "colab_type": "code",
        "colab": {}
      },
      "source": [
        ""
      ],
      "execution_count": 0,
      "outputs": []
    },
    {
      "cell_type": "code",
      "metadata": {
        "id": "VuyRpDs0UyWa",
        "colab_type": "code",
        "colab": {
          "base_uri": "https://localhost:8080/",
          "height": 34
        },
        "outputId": "20ca2b58-bbd4-4ad6-9e04-0a14c75461c7"
      },
      "source": [
        "#----------b)--------------- \n",
        "\n",
        "it_b =2*(3.14/180) #valor dado\n",
        "alpha_b = 5*(3.14/180) #Valor dado\n",
        "E_b = E0 + dev*alpha_b\n",
        "\n",
        "Clo_b = clow+aw*iw+nt*ss*clot+nt*ss*at*(it_b-E0)\n",
        "Cl_b = Clo_b+cl_alpha*alpha_b\n",
        "\n",
        "print(f'CL: {round(Cl_b,5)}');\n"
      ],
      "execution_count": 64,
      "outputs": [
        {
          "output_type": "stream",
          "text": [
            "CL: 0.77446\n"
          ],
          "name": "stdout"
        }
      ]
    },
    {
      "cell_type": "code",
      "metadata": {
        "id": "-uOyeoQmVZJx",
        "colab_type": "code",
        "colab": {
          "base_uri": "https://localhost:8080/",
          "height": 34
        },
        "outputId": "938c68d9-3960-4db5-c9fc-d1971d5a457a"
      },
      "source": [
        "#----------c)---------------\n",
        "\n",
        "cmfus_b = -0.015+0.25*Cl_b\n",
        "xcp = ((clow+aw*(alpha_b+iw))*xw+(clot+at*(alpha_b+it_b-E_b))*ss*nt*xt-(Cmw+cmfus_b)*cbarra)/Cl_b\n",
        "\n",
        "print(f'Xcp: {round(xcp,5)} [m]');"
      ],
      "execution_count": 65,
      "outputs": [
        {
          "output_type": "stream",
          "text": [
            "Xcp: 0.77949 [m]\n"
          ],
          "name": "stdout"
        }
      ]
    },
    {
      "cell_type": "code",
      "metadata": {
        "id": "aubEhW2KVdwC",
        "colab_type": "code",
        "colab": {
          "base_uri": "https://localhost:8080/",
          "height": 34
        },
        "outputId": "c73b0505-9ce1-40ae-cc45-6ef5574e5ff1"
      },
      "source": [
        "#----------d)--------------- \n",
        "\n",
        "xcg = (-0.25+0.33)*cbarra+xw\n",
        "vh = ((xt-xcg)*ss)/cbarra\n",
        "cm_alpha = aw*(xcg-xw)/cbarra - at*(1-dev)*vh*nt\n",
        "ms = -(xcg-xn)/cbarra\n",
        "\n",
        "print(f'MS: {round(ms,5)}')"
      ],
      "execution_count": 66,
      "outputs": [
        {
          "output_type": "stream",
          "text": [
            "MS: 0.1572\n"
          ],
          "name": "stdout"
        }
      ]
    },
    {
      "cell_type": "code",
      "metadata": {
        "id": "R8KTm1vWVjto",
        "colab_type": "code",
        "colab": {
          "base_uri": "https://localhost:8080/",
          "height": 34
        },
        "outputId": "baeff248-5c6c-4077-af03-7df9d9a80104"
      },
      "source": [
        "#----------e)--------------- \n",
        "\n",
        "cl_trim = 0.43\n",
        "\n",
        "data = pd.DataFrame(index=np.arange(0,1500),\n",
        "                    columns=['alpha','it','cmcg']) \n",
        "\n",
        "d_alpha = np.linspace(-7,7,1500) \n",
        "r_alpha = 0.01745*d_alpha \n",
        "loc=np.arange(0,1500) \n",
        "\n",
        "for ialpha,iloc in zip(r_alpha,loc):\n",
        "   \n",
        "    itt = (cl_trim-clow-aw*iw-nt*ss*clot+nt*ss*at*E0-\n",
        "           cl_alpha*ialpha)/(nt*ss*at) \n",
        "    \n",
        "    Clo_fus= clow+aw*iw+nt*ss*clot+nt*ss*at*(itt-E0)\n",
        "    Cl_fus = Clo_fus+cl_alpha*ialpha   \n",
        "    Cm_fus = -0.015 + 0.25*Cl_fus\n",
        "    \n",
        "    \n",
        "    cmcg = ((clow+aw*iw)*(xcg-xw))/cbarra-(clot+\n",
        "           at*(itt-E0))*vh*nt+cm_alpha*ialpha + Cmw + Cm_fus \n",
        "    \n",
        "    row = {'alpha': ialpha, 'it': itt, 'cmcg':cmcg} \n",
        "    data.iloc[iloc] = row \n",
        "    \n",
        "ind = data['cmcg'].sub(0).abs().values.argmin() \n",
        "linha= data.loc[[ind]]\n",
        "\n",
        "it_trim = float(data.iloc[[ind],1]) \n",
        "it_degree = 57.2958*it_trim\n",
        "\n",
        "print(f'it_trim: {round(it_degree,6)} [º]');\n"
      ],
      "execution_count": 67,
      "outputs": [
        {
          "output_type": "stream",
          "text": [
            "it_trim: 1.195216 [º]\n"
          ],
          "name": "stdout"
        }
      ]
    },
    {
      "cell_type": "code",
      "metadata": {
        "id": "475YQMNxVzky",
        "colab_type": "code",
        "colab": {
          "base_uri": "https://localhost:8080/",
          "height": 299
        },
        "outputId": "8327cbd7-58de-4554-bbda-030e8a178112"
      },
      "source": [
        "#----------f)--------------- \n",
        "\n",
        "alpha_deg = np.linspace(-10,10,1000)\n",
        "alpha_rad= alpha_deg*0.01745\n",
        "\n",
        "cm_asa=[]\n",
        "cm_emp=[]\n",
        "cm_fus=[]\n",
        "\n",
        "for al in alpha_rad:\n",
        "   \n",
        "    cmasa =((clow+aw*iw+aw*al)*(xcg-xw))/cbarra + Cmw ## contribuição da asa\n",
        "    cm_asa.append(cmasa)\n",
        "\n",
        "    cmemp = -(clot+at*(al+it_trim-E0-dev*al))*vh*nt ## contribuição da empenagem\n",
        "    cm_emp.append(cmemp)\n",
        "    \n",
        "    cl_fus= clow+aw*iw+nt*ss*clot+nt*ss*at*(it_trim-E0) + cl_alpha*al\n",
        "    cm_fuse = -0.015 + 0.25*(cl_fus) ## contribuição da fuselagem\n",
        "    cm_fus.append(cm_fuse)\n",
        "      \n",
        "cm_total=[x+y+z for x,y,z in zip(cm_asa,cm_emp,cm_fus)]\n",
        "\n",
        "fig=plt.figure()\n",
        "sns.set_style(\"darkgrid\")\n",
        "sns.set_palette(\"deep\")\n",
        "plt.plot(alpha_deg,cm_asa,label='Asa')\n",
        "plt.scatter(1.67436,-0.000480928)\n",
        "plt.plot(alpha_deg,cm_emp,label='Empenagem')\n",
        "plt.plot(alpha_deg,cm_total,label='CMcg total')\n",
        "plt.legend(loc='best')\n",
        "plt.xlabel(\"$\\\\alpha º$\")\n",
        "plt.ylabel(\"$CM_{cg}$\")\n",
        "plt.title('Contribuições da asa e empenagem no $CM_{cg}$')\n",
        "plt.grid(True)"
      ],
      "execution_count": 68,
      "outputs": [
        {
          "output_type": "display_data",
          "data": {
            "image/png": "[encoded data removed]",
            "text/plain": [
              "<Figure size 432x288 with 1 Axes>"
            ]
          },
          "metadata": {
            "tags": []
          }
        }
      ]
    },
    {
      "cell_type": "code",
      "metadata": {
        "id": "OC0qjHemV37W",
        "colab_type": "code",
        "colab": {
          "base_uri": "https://localhost:8080/",
          "height": 119
        },
        "outputId": "6d3cdfd8-8e5d-4d89-ef60-ae077ab4b7ba"
      },
      "source": [
        "print('----------------#2--------------')\n",
        "print(f'a) Xn: {round(xn,5)} [m]');\n",
        "print(f'b) CL: {round(Cl_b,5)}');\n",
        "print(f'c) Xcp: {round(xcp,5)} [m]');\n",
        "print(f'd) MS: {round(ms,5)}')\n",
        "print(f'e) it_trim: {round(it_degree,6)} [º]');"
      ],
      "execution_count": 69,
      "outputs": [
        {
          "output_type": "stream",
          "text": [
            "----------------#2--------------\n",
            "a) Xn: 0.82989 [m]\n",
            "b) CL: 0.77446\n",
            "c) Xcp: 0.77949 [m]\n",
            "d) MS: 0.1572\n",
            "e) it_trim: 1.195216 [º]\n"
          ],
          "name": "stdout"
        }
      ]
    },
    {
      "cell_type": "markdown",
      "metadata": {
        "id": "VENWfBRkWdTk",
        "colab_type": "text"
      },
      "source": [
        "**Exercício 3**"
      ]
    },
    {
      "cell_type": "code",
      "metadata": {
        "id": "Kid_lrTWWiNo",
        "colab_type": "code",
        "colab": {
          "base_uri": "https://localhost:8080/",
          "height": 34
        },
        "outputId": "dbb3ee57-9ed6-40a2-9f38-9f8f72ccc0ce"
      },
      "source": [
        "#----------a)--------------- \n",
        "CL_trim= 0.6\n",
        "it3 = 0\n",
        "\n",
        "data3 = pd.DataFrame(index=np.arange(0,1500),\n",
        "                     columns=['alpha','delta_e','cmcg'])\n",
        "\n",
        "for ialpha,iloc in zip(r_alpha,loc):\n",
        "    \n",
        "    delta_e= (CL_trim-clow-aw*iw-nt*ss*clot-\n",
        "              nt*ss*at*(it3-E0)-cl_alpha*ialpha)/(Cldelta)\n",
        "         \n",
        "    Cm_fus3 = -0.015 + 0.25*CL_trim\n",
        "    \n",
        "    cmcg_e = ((clow+aw*iw)*(xcg-xw))/cbarra - (clot\n",
        "             +at*(it3-E0))*vh*nt + (Cmw + \n",
        "                 Cm_fus3 + cm_alpha*ialpha + Cmdelta*delta_e)\n",
        "    \n",
        "    row3 = {'alpha': ialpha, 'delta_e': delta_e, 'cmcg':cmcg_e}\n",
        "    data3.iloc[iloc] = row3\n",
        "    \n",
        "ind3 = data3['cmcg'].sub(0).abs().values.argmin()\n",
        "linha3= data3.loc[[ind3]]\n",
        "deltae_trim = float(data3.iloc[[ind3],1])\n",
        "\n",
        "print(f'delta_trim: {round(deltae_trim,5)} [º]');"
      ],
      "execution_count": 70,
      "outputs": [
        {
          "output_type": "stream",
          "text": [
            "delta_trim: 41.71949 [º]\n"
          ],
          "name": "stdout"
        }
      ]
    },
    {
      "cell_type": "code",
      "metadata": {
        "id": "IcNn-PKDWqBY",
        "colab_type": "code",
        "colab": {
          "base_uri": "https://localhost:8080/",
          "height": 34
        },
        "outputId": "e2ab5013-dbcb-49a6-8d46-b6fd92639e0f"
      },
      "source": [
        "#----------c)--------------- \n",
        "\n",
        "cltrim_e=1.7\n",
        "delta_e = -20\n",
        "\n",
        "xcg_list=[]\n",
        "for delta_e in np.arange(-25,25,0.5): ## mínima e máxima deflexão\n",
        "    alpha_e = (cltrim_e-clow-aw*iw-nt*ss*clot-ss*\n",
        "               at*(0-E0)-Cldelta*delta_e)/cl_alpha\n",
        "    cmfus_e = -0.015+0.25*cltrim_e\n",
        "    Ee = E0 + dev*alpha_e\n",
        "    xcgg = Symbol('xcgg')\n",
        "\n",
        "    cmcg = (clow+aw*(iw+alpha_e))*(xcgg-xw)/cbarra+(Cmw+\n",
        "           cmfus_e-(clot+at*(alpha_e-Ee))*(xt-\n",
        "                   xcgg)*ss*nt/cbarra + Cmdelta*delta_e)\n",
        "\n",
        "    xcg_list.append(solve(cmcg,xcgg))\n",
        "    \n",
        "xcg_min = min(xcg_list)\n",
        "xcg_min=xcg_min[0]\n",
        "\n",
        "print(f'Passeio CG: {round(xcg_min,5)}  < xcg < {round(xn,5)} [m]');"
      ],
      "execution_count": 71,
      "outputs": [
        {
          "output_type": "stream",
          "text": [
            "Passeio CG: 0.64175  < xcg < 0.82989 [m]\n"
          ],
          "name": "stdout"
        }
      ]
    },
    {
      "cell_type": "code",
      "metadata": {
        "id": "juF-5pkBWxJ_",
        "colab_type": "code",
        "colab": {
          "base_uri": "https://localhost:8080/",
          "height": 85
        },
        "outputId": "641b65eb-c3b5-4e41-a057-4888c0c88b71"
      },
      "source": [
        "print('----------------#3--------------')    \n",
        "print(f'a) delta_trim: {round(deltae_trim,5)} [º]');\n",
        "print(f'b) Xn: {round(xn,5)} [m]');\n",
        "print(f'c) Passeio CG: {round(xcg_min,5)}  < xcg < {round(xn,5)} [m]');"
      ],
      "execution_count": 72,
      "outputs": [
        {
          "output_type": "stream",
          "text": [
            "----------------#3--------------\n",
            "a) delta_trim: 41.71949 [º]\n",
            "b) Xn: 0.82989 [m]\n",
            "c) Passeio CG: 0.64175  < xcg < 0.82989 [m]\n"
          ],
          "name": "stdout"
        }
      ]
    }
  ]
}